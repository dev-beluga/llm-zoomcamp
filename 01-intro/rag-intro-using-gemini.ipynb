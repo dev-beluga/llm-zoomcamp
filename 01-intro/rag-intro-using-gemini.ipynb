{
 "cells": [
  {
   "cell_type": "code",
   "execution_count": 4,
   "id": "6b977a42",
   "metadata": {},
   "outputs": [],
   "source": [
    "import google.generativeai as genai\n",
    "import os\n",
    "from dotenv import load_dotenv"
   ]
  },
  {
   "cell_type": "markdown",
   "id": "fffd065f",
   "metadata": {},
   "source": []
  },
  {
   "cell_type": "code",
   "execution_count": 7,
   "id": "77a5021f",
   "metadata": {},
   "outputs": [],
   "source": [
    "load_dotenv()  # This loads from .env file\n",
    "api_key = os.getenv(\"GEMINI_API_KEY\")\n",
    "if not api_key:\n",
    "    raise ValueError(\"GEMINI_API_KEY environment variable not set\")\n"
   ]
  },
  {
   "cell_type": "code",
   "execution_count": null,
   "id": "e1548808",
   "metadata": {},
   "outputs": [],
   "source": [
    "api_key"
   ]
  },
  {
   "cell_type": "code",
   "execution_count": 9,
   "id": "e6b69563",
   "metadata": {},
   "outputs": [],
   "source": [
    "genai.configure(api_key=api_key)\n",
    "client = genai.GenerativeModel('gemini-1.5-flash')\n",
    "# client = genai.GenerativeModel('gemini-pro')"
   ]
  },
  {
   "cell_type": "code",
   "execution_count": 10,
   "id": "b7bf6180",
   "metadata": {},
   "outputs": [
    {
     "name": "stdout",
     "output_type": "stream",
     "text": [
      "There's no single \"LLM Zoomcamp\" that's universally known.  The term likely refers to a bootcamp-style learning experience focused on Large Language Models (LLMs) delivered via Zoom or a similar video conferencing platform.  To \"start\" it depends entirely on whether you're *creating* one or *participating* in one.\n",
      "\n",
      "**If you're participating in an LLM Zoomcamp:**\n",
      "\n",
      "1. **Find an existing program:** Search online (Google, YouTube, LinkedIn Learning, etc.) for \"LLM Zoomcamp,\" \"Large Language Model bootcamp,\" or similar phrases.  Look for reputable organizations or instructors offering such a program.  Check reviews and testimonials before committing.\n",
      "2. **Register/Enroll:** Once you find a suitable program, follow the instructions on their website to register or enroll. This may involve paying a fee, filling out an application, or simply joining a waiting list.\n",
      "3. **Prepare your environment:** Most LLM Zoomcamps will require access to a computer, a stable internet connection, and potentially specific software (e.g., Python, Jupyter Notebook, specific LLM APIs).  Check the program's requirements beforehand.\n",
      "4. **Attend the sessions:**  Be prepared to actively participate in live sessions, complete assignments, and engage with instructors and fellow participants.\n",
      "\n",
      "**If you're creating an LLM Zoomcamp:**\n",
      "\n",
      "This is a much larger undertaking.  You'll need to:\n",
      "\n",
      "1. **Define the curriculum:**  Determine the topics you'll cover (e.g., foundational concepts of LLMs, specific model architectures like Transformers, fine-tuning techniques, ethical considerations, application development).  Structure it into manageable modules or sessions.\n",
      "2. **Choose your platform:**  Decide on the video conferencing platform (Zoom, Google Meet, etc.) and any supplementary tools (e.g., learning management system, collaborative coding environment).\n",
      "3. **Develop learning materials:** Create presentations, code examples, exercises, and assessments for each module.  This will likely involve a significant time investment.\n",
      "4. **Promote your Zoomcamp:**  Use social media, online forums, and other channels to reach potential participants.\n",
      "5. **Set pricing and logistics:**  Decide on a pricing strategy (if any), registration process, and schedule for sessions.\n",
      "6. **Facilitate the sessions:**  Be prepared to lead interactive sessions, answer questions, provide support to participants, and manage the overall learning experience.\n",
      "\n",
      "\n",
      "In short, the \"how to start\" depends on your role. If you're a learner, search for existing programs. If you're an instructor, plan a detailed curriculum, build your materials, and market your offering.\n",
      "\n"
     ]
    }
   ],
   "source": [
    "response = client.generate_content(\"How to start LLM zoomcamp?\")\n",
    "print(response.text)"
   ]
  }
 ],
 "metadata": {
  "kernelspec": {
   "display_name": "llm-zoomcamp",
   "language": "python",
   "name": "python3"
  },
  "language_info": {
   "codemirror_mode": {
    "name": "ipython",
    "version": 3
   },
   "file_extension": ".py",
   "mimetype": "text/x-python",
   "name": "python",
   "nbconvert_exporter": "python",
   "pygments_lexer": "ipython3",
   "version": "3.10.16"
  }
 },
 "nbformat": 4,
 "nbformat_minor": 5
}
