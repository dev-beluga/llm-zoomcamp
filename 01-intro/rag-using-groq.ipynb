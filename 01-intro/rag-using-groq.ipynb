{
 "cells": [
  {
   "cell_type": "code",
   "execution_count": 1,
   "id": "ca097c43",
   "metadata": {},
   "outputs": [],
   "source": [
    "import os\n",
    "from groq import Groq\n",
    "from dotenv import load_dotenv"
   ]
  },
  {
   "cell_type": "code",
   "execution_count": 2,
   "id": "652a04d4",
   "metadata": {},
   "outputs": [],
   "source": [
    "\n",
    "load_dotenv()  # This loads from .env file\n",
    "api_key = os.getenv(\"GROQ_API_KEY\")\n",
    "if not api_key:\n",
    "    raise ValueError(\"GROQ_API_KEY environment variable not set\")\n",
    "\n",
    "client = Groq(api_key=api_key)\n"
   ]
  },
  {
   "cell_type": "code",
   "execution_count": 5,
   "id": "479dc446",
   "metadata": {},
   "outputs": [
    {
     "data": {
      "text/plain": [
       "\"To give you an accurate answer, I need more information about the LLM Zoomcamp course by datatalks. However, I can suggest a few options:\\n\\n1. **Check the course website**: Visit the official website of the LLM Zoomcamp course and see if there's a registration or enrollment period mentioned. You can also check if there's a notice about availability or if the course is now closed for new registrations.\\n\\n2. **Reach out to datatalks**: You can send an email or message to datatalks and ask if it's still possible to join the course. They may have an answer ready for you, or at least be able to direct you to someone who can help.\\n\\n3. **Check recent announcements**: Look for any recent announcements or social media posts from datatalks about the LLM Zoomcamp course. They might have posted an update about the course schedule, availability, or other relevant details.\\n\\n4. **Contact Datatalks on their social media**: Datatalks' social media profiles often have contact methods that allow users to reach out to them. This could include reaching out to them via Twitter, LinkedIn, or their Facebook page.\\n\\nPlease note that I do not have real-time access to datatalks' schedule or current availability of their courses, so it's best to check their official channels or contact them directly for the most up-to-date information. \\n\\nIf you can provide more context or information about the course, I will be happy to try and help you find the information you are looking for.\""
      ]
     },
     "execution_count": 5,
     "metadata": {},
     "output_type": "execute_result"
    }
   ],
   "source": [
    "# Basic chat completion\n",
    "response = client.chat.completions.create(\n",
    "    model=\"llama-3.1-8b-instant\",\n",
    "    messages=[\n",
    "        {\n",
    "            \"role\": \"user\",\n",
    "            \"content\": \"is it too late to join the LLM Zoomcamp course by datatalks?\",\n",
    "        }\n",
    "    ],\n",
    "    \n",
    ")\n",
    "\n",
    "response.choices[0].message.content\n",
    "# print(chat_completion.choices[0].message.content)"
   ]
  }
 ],
 "metadata": {
  "kernelspec": {
   "display_name": "llm-zoomcamp",
   "language": "python",
   "name": "python3"
  },
  "language_info": {
   "codemirror_mode": {
    "name": "ipython",
    "version": 3
   },
   "file_extension": ".py",
   "mimetype": "text/x-python",
   "name": "python",
   "nbconvert_exporter": "python",
   "pygments_lexer": "ipython3",
   "version": "3.10.16"
  }
 },
 "nbformat": 4,
 "nbformat_minor": 5
}
